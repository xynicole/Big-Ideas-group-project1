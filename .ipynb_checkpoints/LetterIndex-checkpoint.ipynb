{
 "cells": [
  {
   "cell_type": "code",
   "execution_count": 10,
   "metadata": {},
   "outputs": [
    {
     "name": "stdin",
     "output_type": "stream",
     "text": [
      "Enter your name:  ajsdha\n",
      "Enter the index number:  2\n"
     ]
    },
    {
     "name": "stdout",
     "output_type": "stream",
     "text": [
      "The # 2 letter in your name is j\n"
     ]
    }
   ],
   "source": [
    "user_input = input(\"Enter your name: \")\n",
    "count = input(\"Enter the index number: \")\n",
    "\n",
    "try: \n",
    "    count = int(count)\n",
    "except:\n",
    "    print (\"Please input a integer\")\n",
    "else:\n",
    "    if count<1:\n",
    "        raise RuntimeError(\"The number inputed is too small\")\n",
    "\n",
    "    if count > len(user_input):\n",
    "        raise RuntimeError(\"The number inputed is too large\")\n",
    "\n",
    "    print(\"The # %d letter in your name is %s\"%(count,user_input[count-1]))\n"
   ]
  }
 ],
 "metadata": {
  "kernelspec": {
   "display_name": "Python 3.7",
   "language": "python",
   "name": "python3"
  },
  "language_info": {
   "codemirror_mode": {
    "name": "ipython",
    "version": 3
   },
   "file_extension": ".py",
   "mimetype": "text/x-python",
   "name": "python",
   "nbconvert_exporter": "python",
   "pygments_lexer": "ipython3",
   "version": "3.7.0"
  }
 },
 "nbformat": 4,
 "nbformat_minor": 2
}
